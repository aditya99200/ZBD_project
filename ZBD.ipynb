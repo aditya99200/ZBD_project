{
  "nbformat": 4,
  "nbformat_minor": 0,
  "metadata": {
    "colab": {
      "provenance": []
    },
    "kernelspec": {
      "name": "python3",
      "display_name": "Python 3"
    },
    "language_info": {
      "name": "python"
    }
  },
  "cells": [
    {
      "cell_type": "code",
      "execution_count": 2,
      "metadata": {
        "id": "pXE6uUEjo5SZ"
      },
      "outputs": [],
      "source": [
        "from pyspark.sql import SparkSession\n",
        "\n",
        "# Initialize a Spark session\n",
        "spark = SparkSession.builder.appName(\"ReadDataFrame\").getOrCreate()\n",
        "\n",
        "# Define the file path (replace with your actual file path)\n",
        "file_path = \"/content/users.csv\"  # Change for your file type\n",
        "\n",
        "# Read the file into a DataFrame (assuming it's a CSV file)\n",
        "df_users = spark.read.option(\"header\", \"true\").csv(file_path)\n",
        "\n",
        "\n",
        "file_path2 = \"/content/user_touchpoints.csv\"\n",
        "df_user_touchpoints = spark.read.option(\"header\", \"true\").csv(file_path2)\n",
        "\n",
        "file_path3 = \"/content/revenue_and_rewards.csv\"\n",
        "df_revenue_and_rewards = spark.read.option(\"header\", \"true\").csv(file_path3)\n",
        "\n",
        "file_path4 = \"/content/marketing_spend.csv\"\n",
        "df_marketing_spend= spark.read.option(\"header\", \"true\").csv(file_path4)"
      ]
    },
    {
      "cell_type": "code",
      "source": [
        "from pyspark.sql.functions import sum, count, col\n",
        "\n",
        "# Aggregate total spend, impressions, and clicks from marketing_spend.csv\n",
        "df_marketing_metrics = df_marketing_spend.groupBy(\"channel\").agg(\n",
        "    sum(\"spend\").alias(\"total_spend\"),\n",
        "    sum(\"impressions\").alias(\"total_impressions\"),\n",
        "    sum(\"clicks\").alias(\"total_clicks\")\n",
        ")\n",
        "\n",
        "# Aggregate total conversions from user_touchpoints.csv\n",
        "df_conversions = df_user_touchpoints.filter(col(\"conversion\") == True).groupBy(\"channel\").agg(\n",
        "    count(\"user_id\").alias(\"total_conversions\")\n",
        ")\n",
        "\n",
        "# Aggregate total revenue from revenue_and_rewards.csv (join with users for channel)\n",
        "df_revenue = df_users.join(df_revenue_and_rewards, \"user_id\", \"inner\") \\\n",
        "                     .groupBy(\"channel\").agg(sum(\"revenue\").alias(\"total_revenue\"))\n",
        "\n",
        "# Join all datasets to get complete channel performance\n",
        "df_channel_performance = df_marketing_metrics \\\n",
        "    .join(df_conversions, \"channel\", \"left\") \\\n",
        "    .join(df_revenue, \"channel\", \"left\") \\\n",
        "    .fillna(0)  # Fill nulls with 0 for missing values\n",
        "\n",
        "# Show results\n",
        "df_channel_performance.show()\n"
      ],
      "metadata": {
        "colab": {
          "base_uri": "https://localhost:8080/"
        },
        "id": "1ox_sXIvp9hN",
        "outputId": "a36a73ca-a356-4b70-f098-15f831e4adcf"
      },
      "execution_count": 3,
      "outputs": [
        {
          "output_type": "stream",
          "name": "stdout",
          "text": [
            "+----------+------------------+-----------------+------------+-----------------+------------------+\n",
            "|   channel|       total_spend|total_impressions|total_clicks|total_conversions|     total_revenue|\n",
            "+----------+------------------+-----------------+------------+-----------------+------------------+\n",
            "| instagram|23294.956006770208|        2342705.0|     57677.0|             5168|1405870.5400000694|\n",
            "|   twitter|13950.928595089703|        2731093.0|     53713.0|             5179| 980673.7400000249|\n",
            "|google_ads|40751.349267119636|        1728387.0|     59581.0|             5243|2284628.7300002063|\n",
            "| affiliate| 9317.011117527823|         517110.0|     19806.0|             5234| 830896.4700000079|\n",
            "|  facebook|29205.112395249587|        2280049.0|     62934.0|             5283|1878910.2500001364|\n",
            "+----------+------------------+-----------------+------------+-----------------+------------------+\n",
            "\n"
          ]
        }
      ]
    },
    {
      "cell_type": "code",
      "source": [
        "from pyspark.sql.functions import sum, count, col, when\n",
        "\n",
        "# Aggregate total spend from marketing_spend.csv\n",
        "df_campaign_spend = df_marketing_spend.groupBy(\"campaign\").agg(\n",
        "    sum(\"spend\").alias(\"total_spend\")\n",
        ")\n",
        "\n",
        "# Aggregate total conversions from user_touchpoints.csv\n",
        "df_campaign_conversions = df_user_touchpoints.filter(col(\"conversion\") == True).groupBy(\"campaign\").agg(\n",
        "    count(\"user_id\").alias(\"total_conversions\")\n",
        ")\n",
        "\n",
        "# Aggregate total revenue from revenue_and_rewards.csv (join with users for campaign)\n",
        "df_campaign_revenue = df_users.join(df_revenue_and_rewards, \"user_id\", \"inner\") \\\n",
        "                     .groupBy(\"campaign\").agg(sum(\"revenue\").alias(\"total_revenue\"))\n",
        "\n",
        "# Join all datasets to get complete campaign performance\n",
        "df_campaign_performance = df_campaign_spend \\\n",
        "    .join(df_campaign_conversions, \"campaign\", \"left\") \\\n",
        "    .join(df_campaign_revenue, \"campaign\", \"left\") \\\n",
        "    .fillna(0)  # Fill nulls with 0 for missing values\n",
        "\n",
        "# Calculate ROAS (Return on Ad Spend) = Total Revenue / Total Spend\n",
        "df_campaign_performance = df_campaign_performance.withColumn(\n",
        "    \"ROAS\", when(col(\"total_spend\") > 0, col(\"total_revenue\") / col(\"total_spend\")).otherwise(None)\n",
        ")\n",
        "\n",
        "# Show results\n",
        "df_campaign_performance.show()\n"
      ],
      "metadata": {
        "colab": {
          "base_uri": "https://localhost:8080/"
        },
        "id": "-5HhvEStrOsX",
        "outputId": "648b5e4c-b57b-4bd4-8db8-ae969bab1241"
      },
      "execution_count": 4,
      "outputs": [
        {
          "output_type": "stream",
          "name": "stdout",
          "text": [
            "+---------------+------------------+-----------------+------------------+------------------+\n",
            "|       campaign|       total_spend|total_conversions|     total_revenue|              ROAS|\n",
            "+---------------+------------------+-----------------+------------------+------------------+\n",
            "|brand_awareness| 23339.69835786019|             3168| 383497.6999999947| 16.43113351852051|\n",
            "|holiday_special| 23312.31130874749|             6580|1699933.1000000883| 72.91997251950825|\n",
            "|    summer_sale|23217.213090944046|             6654|1420579.4800000563| 61.18647722426936|\n",
            "|    retargeting|23283.140160950188|            12135| 2743903.860000251|117.84938977441915|\n",
            "| new_user_promo|23366.994463254894|             7771| 1133065.590000059| 48.49000121867745|\n",
            "+---------------+------------------+-----------------+------------------+------------------+\n",
            "\n"
          ]
        }
      ]
    },
    {
      "cell_type": "code",
      "source": [
        "# CAC\n",
        "from pyspark.sql.functions import countDistinct\n",
        "\n",
        "# Total new customers acquired\n",
        "df_new_customers = df_users.groupBy(\"channel\").agg(countDistinct(\"user_id\").alias(\"new_customers\"))\n",
        "\n",
        "# CAC Calculation\n",
        "df_cac = df_marketing_spend.groupBy(\"channel\").agg(sum(\"spend\").alias(\"total_spend\")) \\\n",
        "    .join(df_new_customers, \"channel\", \"left\") \\\n",
        "    .withColumn(\"CAC\", col(\"total_spend\") / col(\"new_customers\"))\n",
        "\n",
        "df_cac.show()\n"
      ],
      "metadata": {
        "colab": {
          "base_uri": "https://localhost:8080/"
        },
        "id": "L2FqavNosrwY",
        "outputId": "ea19b560-a913-4ea9-cc88-3feb7b0f6281"
      },
      "execution_count": 5,
      "outputs": [
        {
          "output_type": "stream",
          "name": "stdout",
          "text": [
            "+----------+------------------+-------------+------------------+\n",
            "|   channel|       total_spend|new_customers|               CAC|\n",
            "+----------+------------------+-------------+------------------+\n",
            "| instagram|23294.956006770208|         6565|3.5483558273831237|\n",
            "|   twitter|13950.928595089703|         4690|2.9746116407440732|\n",
            "|google_ads|40751.349267119636|        10674|3.8178142464979987|\n",
            "| affiliate| 9317.011117527823|         3885|2.3982010598527217|\n",
            "|  facebook|29205.112395249587|         8883|3.2877532810142505|\n",
            "+----------+------------------+-------------+------------------+\n",
            "\n"
          ]
        }
      ]
    },
    {
      "cell_type": "code",
      "source": [
        "# conversion rate\n",
        "df_conversion_rate = df_user_touchpoints.filter(col(\"conversion\") == True) \\\n",
        "    .groupBy(\"channel\").agg(count(\"user_id\").alias(\"total_conversions\")) \\\n",
        "    .join(df_marketing_spend.groupBy(\"channel\").agg(sum(\"clicks\").alias(\"total_clicks\")), \"channel\", \"left\") \\\n",
        "    .withColumn(\"Conversion Rate (%)\", (col(\"total_conversions\") / col(\"total_clicks\")) * 100)\n",
        "\n",
        "df_conversion_rate.show()\n"
      ],
      "metadata": {
        "colab": {
          "base_uri": "https://localhost:8080/"
        },
        "id": "dRLL1dSGtnhC",
        "outputId": "631783e5-ab5e-4b70-dbd2-ad771d6a3e8e"
      },
      "execution_count": 6,
      "outputs": [
        {
          "output_type": "stream",
          "name": "stdout",
          "text": [
            "+----------+-----------------+------------+-------------------+\n",
            "|   channel|total_conversions|total_clicks|Conversion Rate (%)|\n",
            "+----------+-----------------+------------+-------------------+\n",
            "| instagram|             5168|     57677.0|  8.960244118106004|\n",
            "|   twitter|             5179|     53713.0|  9.641986111369686|\n",
            "|     email|             5155|        NULL|               NULL|\n",
            "|google_ads|             5243|     59581.0|   8.79978516641211|\n",
            "|   organic|             5046|        NULL|               NULL|\n",
            "| affiliate|             5234|     19806.0| 26.426335453902855|\n",
            "|  facebook|             5283|     62934.0|  8.394508532748594|\n",
            "+----------+-----------------+------------+-------------------+\n",
            "\n"
          ]
        }
      ]
    },
    {
      "cell_type": "code",
      "source": [
        "# ros\n",
        "df_roas = df_marketing_spend.groupBy(\"channel\").agg(sum(\"spend\").alias(\"total_spend\")) \\\n",
        "    .join(df_users.join(df_revenue_and_rewards, \"user_id\", \"inner\").groupBy(\"channel\")\n",
        "          .agg(sum(\"revenue\").alias(\"total_revenue\")), \"channel\", \"left\") \\\n",
        "    .withColumn(\"ROAS\", col(\"total_revenue\") / col(\"total_spend\"))\n",
        "\n",
        "df_roas.show()\n"
      ],
      "metadata": {
        "colab": {
          "base_uri": "https://localhost:8080/"
        },
        "id": "9CHQJU-At9CV",
        "outputId": "85580a65-2962-482d-f7fe-666fcab7a287"
      },
      "execution_count": 7,
      "outputs": [
        {
          "output_type": "stream",
          "name": "stdout",
          "text": [
            "+----------+------------------+------------------+------------------+\n",
            "|   channel|       total_spend|     total_revenue|              ROAS|\n",
            "+----------+------------------+------------------+------------------+\n",
            "| instagram|23294.956006770208|1405870.5400000694|60.350856193567466|\n",
            "|   twitter|13950.928595089703| 980673.7400000249| 70.29451361002535|\n",
            "|google_ads|40751.349267119636|2284628.7300002063| 56.06265242961088|\n",
            "| affiliate| 9317.011117527823| 830896.4700000079| 89.18058157479993|\n",
            "|  facebook|29205.112395249587|1878910.2500001364| 64.33497753995132|\n",
            "+----------+------------------+------------------+------------------+\n",
            "\n"
          ]
        }
      ]
    },
    {
      "cell_type": "code",
      "source": [
        "# CTR\n",
        "df_ctr = df_marketing_spend.groupBy(\"channel\").agg(\n",
        "    sum(\"impressions\").alias(\"total_impressions\"),\n",
        "    sum(\"clicks\").alias(\"total_clicks\")\n",
        ").withColumn(\"CTR (%)\", (col(\"total_clicks\") / col(\"total_impressions\")) * 100)\n",
        "\n",
        "df_ctr.show()\n"
      ],
      "metadata": {
        "colab": {
          "base_uri": "https://localhost:8080/"
        },
        "id": "THhxiLKXuWGA",
        "outputId": "9006c313-6b3d-44c5-ca20-8377b5b14ae2"
      },
      "execution_count": 8,
      "outputs": [
        {
          "output_type": "stream",
          "name": "stdout",
          "text": [
            "+----------+-----------------+------------+-----------------+\n",
            "|   channel|total_impressions|total_clicks|          CTR (%)|\n",
            "+----------+-----------------+------------+-----------------+\n",
            "| instagram|        2342705.0|     57677.0|2.461983049509008|\n",
            "|   twitter|        2731093.0|     53713.0|1.966721748398901|\n",
            "|google_ads|        1728387.0|     59581.0|3.447202507308838|\n",
            "| affiliate|         517110.0|     19806.0|3.830132853744851|\n",
            "|  facebook|        2280049.0|     62934.0| 2.76020383772454|\n",
            "+----------+-----------------+------------+-----------------+\n",
            "\n"
          ]
        }
      ]
    },
    {
      "cell_type": "code",
      "source": [
        "# CRR\n",
        "from pyspark.sql.functions import date_trunc\n",
        "\n",
        "# Count active customers at start and end of the period\n",
        "df_retention = df_users.withColumn(\"month\", date_trunc(\"month\", col(\"created_at\"))) \\\n",
        "    .groupBy(\"month\").agg(countDistinct(\"user_id\").alias(\"active_customers\"))\n",
        "\n",
        "df_retention.orderBy(col(\"month\").desc()).show()"
      ],
      "metadata": {
        "colab": {
          "base_uri": "https://localhost:8080/"
        },
        "id": "UssNeEKmuw76",
        "outputId": "c3440f00-031d-4480-a0f8-e9f630dcdcca"
      },
      "execution_count": 9,
      "outputs": [
        {
          "output_type": "stream",
          "name": "stdout",
          "text": [
            "+-------------------+----------------+\n",
            "|              month|active_customers|\n",
            "+-------------------+----------------+\n",
            "|2024-01-01 00:00:00|               4|\n",
            "|2023-12-01 00:00:00|            3752|\n",
            "|2023-11-01 00:00:00|            3648|\n",
            "|2023-10-01 00:00:00|            2634|\n",
            "|2023-09-01 00:00:00|            2495|\n",
            "|2023-08-01 00:00:00|            3259|\n",
            "|2023-07-01 00:00:00|            3130|\n",
            "|2023-06-01 00:00:00|            3115|\n",
            "|2023-05-01 00:00:00|            2639|\n",
            "|2023-04-01 00:00:00|            2529|\n",
            "|2023-03-01 00:00:00|            2624|\n",
            "|2023-02-01 00:00:00|            2299|\n",
            "|2023-01-01 00:00:00|            2569|\n",
            "+-------------------+----------------+\n",
            "\n"
          ]
        }
      ]
    },
    {
      "cell_type": "code",
      "source": [
        "\n"
      ],
      "metadata": {
        "id": "85ZEAsRdvESx"
      },
      "execution_count": 9,
      "outputs": []
    },
    {
      "cell_type": "code",
      "source": [
        "from pyspark.sql import SparkSession\n",
        "from pyspark.sql.functions import sum, count, col\n",
        "\n",
        "# Initialize Spark Session\n",
        "spark = SparkSession.builder.appName(\"DenormalizedUsers\").getOrCreate()\n",
        "\n",
        "# Load DataFrames\n",
        "df_users = spark.read.option(\"header\", \"true\").csv(\"/content/users.csv\")\n",
        "df_revenue_rewards = spark.read.option(\"header\", \"true\").csv(\"/content/revenue_and_rewards.csv\")\n",
        "df_user_touchpoints = spark.read.option(\"header\", \"true\").csv(\"/content/user_touchpoints.csv\")\n",
        "\n",
        "# Convert columns to appropriate types\n",
        "df_revenue_rewards = df_revenue_rewards.withColumn(\"revenue\", col(\"revenue\").cast(\"double\")) \\\n",
        "                                       .withColumn(\"reward_to_user\", col(\"reward_to_user\").cast(\"double\"))\n",
        "\n",
        "# Aggregate revenue & rewards per user\n",
        "df_user_revenue = df_revenue_rewards.groupBy(\"user_id\").agg(\n",
        "    sum(\"revenue\").alias(\"total_revenue\"),\n",
        "    sum(\"reward_to_user\").alias(\"total_rewards\")\n",
        ")\n",
        "\n",
        "# Count number of touchpoints per user\n",
        "df_touchpoints = df_user_touchpoints.groupBy(\"user_id\").agg(\n",
        "    count(\"touchpoint_date\").alias(\"num_touchpoints\")\n",
        ")\n",
        "\n",
        "# Join all datasets to create denormalized user table\n",
        "df_denormalized_users = df_users.join(df_user_revenue, \"user_id\", \"left\") \\\n",
        "    .join(df_touchpoints, \"user_id\", \"left\") \\\n",
        "    .fillna(0)  # Fill null values with 0\n",
        "\n",
        "# Show final denormalized table\n",
        "df_denormalized_users.show()\n",
        "\n",
        "# Save as a Parquet file for materialized view\n",
        "# df_denormalized_users.write.mode(\"overwrite\").csv(\"file:///C:/Users/adity/Downloads/parquet\", header=True)\n",
        "df_denormalized_users.write.mode(\"overwrite\").parquet(\"file:///C:/Users/adity/Downloads/parquet_output\")\n",
        "\n",
        "\n",
        "\n"
      ],
      "metadata": {
        "colab": {
          "base_uri": "https://localhost:8080/"
        },
        "id": "tsWtzvTfvngI",
        "outputId": "80987cef-058d-4e53-d550-3f3b4be77f65"
      },
      "execution_count": 23,
      "outputs": [
        {
          "output_type": "stream",
          "name": "stdout",
          "text": [
            "+-------+-------------------+-------------------+-------------------+----------+---------------+------------------+------------------+---------------+\n",
            "|user_id|       installed_at|         created_at|         updated_at|   channel|       campaign|     total_revenue|     total_rewards|num_touchpoints|\n",
            "+-------+-------------------+-------------------+-------------------+----------+---------------+------------------+------------------+---------------+\n",
            "|u000015|2023-01-01 07:31:00|2023-01-01 07:59:00|2023-01-01 07:59:00|google_ads|    retargeting|             163.8|1.6400000000000001|              3|\n",
            "|u000002|2023-01-01 00:51:00|2023-01-01 01:38:00|2023-01-01 01:38:00|google_ads| new_user_promo| 91.86000000000001|              0.89|              4|\n",
            "|u000009|2023-01-01 03:11:00|2023-01-01 03:24:00|2023-01-01 03:24:00|google_ads|holiday_special|144.25000000000003|1.4400000000000004|              4|\n",
            "|u000011|2023-01-01 20:32:00|2023-01-01 20:33:00|2023-01-01 20:33:00|google_ads|holiday_special| 4.549999999999999|              0.04|              1|\n",
            "|u000007|2023-01-01 20:09:00|2023-01-01 20:36:00|2023-01-01 20:36:00|google_ads|    summer_sale|204.82000000000002|2.0499999999999994|              2|\n",
            "|u000001|2023-01-01 21:49:00|2023-01-01 21:56:00|2023-01-01 21:56:00|google_ads| new_user_promo| 135.1999999999999|1.3500000000000003|              4|\n",
            "|u000019|2023-01-01 14:25:00|2023-01-01 14:46:00|2023-01-01 14:46:00|google_ads|    retargeting|            613.13| 6.129999999999999|              1|\n",
            "|u000021|2023-01-01 07:20:00|2023-01-01 08:08:00|2023-01-01 08:08:00|  facebook| new_user_promo|             38.83|              0.38|              3|\n",
            "|u000005|2023-01-01 03:29:00|2023-01-01 04:12:00|2023-01-01 04:12:00|google_ads| new_user_promo|             13.13|              0.13|              2|\n",
            "|u000003|2023-01-01 09:23:00|2023-01-01 09:38:00|2023-01-01 09:38:00|google_ads| new_user_promo| 77.64000000000001|0.7700000000000001|              5|\n",
            "|u000014|2023-01-01 18:36:00|2023-01-01 19:02:00|2023-01-01 19:02:00|google_ads|brand_awareness|13.909999999999998|              0.12|              3|\n",
            "|u000010|2023-01-01 07:56:00|2023-01-01 08:28:00|2023-01-01 08:28:00|google_ads|holiday_special|232.06999999999994|2.3299999999999996|              2|\n",
            "|u000013|2023-01-01 22:10:00|2023-01-01 22:54:00|2023-01-01 22:54:00|google_ads|brand_awareness|13.219999999999997|              0.14|              5|\n",
            "|u000012|2023-01-01 19:09:00|2023-01-01 19:21:00|2023-01-01 19:21:00|google_ads|holiday_special|364.59999999999997|3.6499999999999995|              5|\n",
            "|u000020|2023-01-01 09:29:00|2023-01-01 09:38:00|2023-01-01 09:38:00|google_ads|    retargeting|            176.91|1.7800000000000002|              5|\n",
            "|u000016|2023-01-01 20:06:00|2023-01-01 20:23:00|2023-01-01 20:23:00|google_ads|    retargeting|210.90000000000003|              2.09|              1|\n",
            "|u000008|2023-01-01 01:05:00|2023-01-01 01:06:00|2023-01-01 01:06:00|google_ads|    summer_sale|328.78999999999996| 3.289999999999999|              3|\n",
            "|u000017|2023-01-01 00:13:00|2023-01-01 01:01:00|2023-01-01 01:01:00|google_ads|    retargeting| 66.84999999999998|0.6800000000000002|              3|\n",
            "|u000006|2023-01-01 18:36:00|2023-01-01 18:41:00|2023-01-01 18:41:00|google_ads|    summer_sale|184.07999999999998|              1.82|              4|\n",
            "|u000004|2023-01-01 07:37:00|2023-01-01 07:45:00|2023-01-01 07:45:00|google_ads| new_user_promo|58.339999999999996|0.5700000000000001|              4|\n",
            "+-------+-------------------+-------------------+-------------------+----------+---------------+------------------+------------------+---------------+\n",
            "only showing top 20 rows\n",
            "\n"
          ]
        }
      ]
    },
    {
      "cell_type": "code",
      "source": [],
      "metadata": {
        "id": "EwWWlY577zmq"
      },
      "execution_count": null,
      "outputs": []
    },
    {
      "cell_type": "code",
      "source": [],
      "metadata": {
        "id": "HPRMjbm70irE"
      },
      "execution_count": null,
      "outputs": []
    }
  ]
}